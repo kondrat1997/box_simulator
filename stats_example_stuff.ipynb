{
 "cells": [
  {
   "cell_type": "code",
   "execution_count": 9,
   "metadata": {},
   "outputs": [
    {
     "name": "stderr",
     "output_type": "stream",
     "text": [
      "/home/kondrat/.conda/envs/py3/lib/python3.6/importlib/_bootstrap.py:219: RuntimeWarning: numpy.dtype size changed, may indicate binary incompatibility. Expected 96, got 88\n",
      "  return f(*args, **kwds)\n"
     ]
    }
   ],
   "source": [
    "import numpy as np\n",
    "import matplotlib.pyplot as plt\n",
    "from numpy.random import uniform\n",
    "from scipy.stats import norm\n",
    "import pandas as pd\n",
    "%matplotlib inline\n",
    "\n",
    "#global LIST_OF_BOXES\n",
    "#LIST_OF_BOXES = []"
   ]
  },
  {
   "cell_type": "code",
   "execution_count": 10,
   "metadata": {},
   "outputs": [],
   "source": [
    "def print_d(d):\n",
    "    d_ = [{'probability':p, 'reward':r} for r,p in d.items()]\n",
    "    return pd.DataFrame(d_)"
   ]
  },
  {
   "cell_type": "code",
   "execution_count": 11,
   "metadata": {},
   "outputs": [],
   "source": [
    "def calc_stats(d_of_proba):\n",
    "    assert sum(d_of_proba.values()) <= 1\n",
    "    assert all(np.array(list(d_of_proba.values())) > 0)\n",
    "    \n",
    "    E = 0\n",
    "    V = 0\n",
    "    for r, p in d_of_proba.items():\n",
    "        E+=p*r\n",
    "    \n",
    "    for r, p in d_of_proba.items():\n",
    "        V+=p*((r-E)**2)\n",
    "    \n",
    "    V+=(1-sum(d_of_proba.values()))*(E**2)\n",
    "    return E,V\n",
    "\n",
    "def make_d(d_of_proba: dict):\n",
    "    assert sum(d_of_proba.values()) <= 1\n",
    "    assert all(np.array(list(d_of_proba.values())) > 0)\n",
    "    \n",
    "    d = {}\n",
    "    a = 0\n",
    "    for r, p in d_of_proba.items():\n",
    "        d[(a,a+p)] = r\n",
    "        a+=p\n",
    "\n",
    "    return d\n",
    "\n",
    "def make_dist_func(d_of_proba:dict):\n",
    "    d = make_d(d_of_proba)\n",
    "    check_in = lambda x,b: x>=b[0] and x<b[1]\n",
    "    \n",
    "    def f(x):\n",
    "        for b, reward in d.items():\n",
    "            if check_in(x,b):\n",
    "                return reward\n",
    "        else:\n",
    "            return 0\n",
    "    \n",
    "    return f"
   ]
  },
  {
   "cell_type": "code",
   "execution_count": 26,
   "metadata": {},
   "outputs": [],
   "source": [
    "class box():\n",
    "    def __init__(self, d, cost):\n",
    "        self.d = d\n",
    "        self.E, self.V = calc_stats(d)\n",
    "        \n",
    "        self.cost = cost\n",
    "        self.spin_f = make_dist_func(d)\n",
    "        \n",
    "        self.total_win = 0\n",
    "        self.total_loss = 0\n",
    "        self.spins_count = 0\n",
    "        self.spins_result = np.array([])\n",
    "        #LIST_OF_BOXES.append(self)\n",
    "        \n",
    "    def spin(self, count=1):\n",
    "        self.total_loss+=count*self.cost\n",
    "        self.spins_count+=count\n",
    "        result = np.array([self.spin_f(x) for x in uniform(size=count)])\n",
    "        self.total_win+=result.sum()\n",
    "        self.spins_result = np.hstack([self.spins_result,result])\n",
    "        \n",
    "        return result\n",
    "    \n",
    "    def reset(self):\n",
    "        self.total_win = 0\n",
    "        self.total_loss = 0\n",
    "        self.spins_count = 0\n",
    "        self.spins_result = np.array([])\n",
    "    \n",
    "    def stats(self, full=False):\n",
    "        if full:\n",
    "            print(f'E : {self.E}')\n",
    "            print(f'V: {self.V}')\n",
    "            print(f'cost: {self.cost}')\n",
    "            print(f'sum mean: {self.E - self.cost}')\n",
    "            print('------------')\n",
    "        print(f'total win: {self.total_win}')\n",
    "        print(f'total loss: {self.total_loss}')\n",
    "        print(f'total profit: {self.total_win - self.total_loss}')\n",
    "        print(f'spins: {self.spins_count}')\n",
    "        if self.spins_count:\n",
    "            print(f'mean profit: {(self.total_win - self.total_loss)/self.spins_count}')\n",
    "            print('##############')\n",
    "            rs, cs = np.unique(self.spins_result, return_counts=True)\n",
    "            for r,c in zip(rs,cs):\n",
    "                print(f'reward {r}: {c}')"
   ]
  },
  {
   "cell_type": "code",
   "execution_count": 13,
   "metadata": {},
   "outputs": [],
   "source": [
    "def calc_boxes_stats(list_of_box):\n",
    "    E = 0\n",
    "    V = 0\n",
    "    N = 0\n",
    "    total_win = 0\n",
    "    total_loss = 0\n",
    "    mean_cost = 0\n",
    "    for box in list_of_box:\n",
    "        E+=box.E*box.spins_count\n",
    "        V+=box.V*box.spins_count\n",
    "        N+=box.spins_count\n",
    "        total_win+=box.total_win\n",
    "        total_loss+=box.total_loss\n",
    "        mean_cost+=box.cost*box.spins_count\n",
    "        \n",
    "    return E/N, V/(N**2), N, total_win, total_loss, mean_cost/N"
   ]
  },
  {
   "cell_type": "code",
   "execution_count": 14,
   "metadata": {
    "scrolled": false
   },
   "outputs": [],
   "source": [
    "def get_boxes_stats(*l_of_b):\n",
    "    E, V, N, total_win, total_loss, mean_cost = calc_boxes_stats(l_of_b)\n",
    "    sum_ = total_win - total_loss\n",
    "    mean_sum = sum_/N\n",
    "    mean_win = total_win/N\n",
    "    dist = norm(loc=E, scale=np.sqrt(V))\n",
    "    p_better_res = dist.sf(mean_win)\n",
    "    x = np.linspace(dist.ppf(0.005),dist.ppf(0.995), 100)\n",
    "    plt.figure(figsize=(10,7))\n",
    "    plt.plot(x, dist.pdf(x), label = \n",
    "            f'Theory mean profit: {round(E,2)}'+\n",
    "            f'\\nTheory variance: {round(V,2)}')\n",
    "    plt.plot([mean_win], [0], 'o', label=f'Mean profit: {round(mean_win,2)}'+\n",
    "             f'\\nMean sum: {round(mean_sum,2)}'\n",
    "             +f'\\nBeter result probability: {round(100*p_better_res,2)}%')\n",
    "    \n",
    "    plt.plot([mean_cost], [0], 'o', label=f'Mean cost: {round(mean_cost,2)}'+\n",
    "             '\\n'+\n",
    "            r'Greater profit probability: $\\approx 10^{'\n",
    "             +str(round(np.log(dist.sf(mean_cost))/np.log(10)+2))+\n",
    "             '}$%')\n",
    "    \n",
    "    plt.ylabel(r'Probability density function f(x)', fontsize=15)\n",
    "    plt.xlabel('Mean profit',  fontsize=15)\n",
    "    plt.legend(loc=1)"
   ]
  },
  {
   "cell_type": "code",
   "execution_count": 15,
   "metadata": {},
   "outputs": [],
   "source": [
    "def get_stats(*l_of_b):\n",
    "    for i,b in enumerate(l_of_b):\n",
    "        get_boxes_stats(b)\n",
    "        plt.title(f'box #{i+1}', fontsize=20)\n",
    "        \n",
    "    get_boxes_stats(*l_of_b)\n",
    "    plt.title(f'total', fontsize=20)\n",
    "    plt.show()"
   ]
  },
  {
   "cell_type": "code",
   "execution_count": 23,
   "metadata": {},
   "outputs": [],
   "source": [
    "def many_games(*l_of_b, count_of_spins = 1000, count_of_games = 200):\n",
    "    results = []\n",
    "    temp_results = []\n",
    "    for game in range(count_of_games):\n",
    "        for b in l_of_b:\n",
    "            b.reset()\n",
    "            temp_results.extend(b.spin(count_of_spins))\n",
    "        results.append(np.mean(temp_results))\n",
    "        \n",
    "    get_boxes_stats(b)\n",
    "    plt.hist(results, bins=50, normed=True)"
   ]
  }
 ],
 "metadata": {
  "kernelspec": {
   "display_name": "Python 3",
   "language": "python",
   "name": "python3"
  },
  "language_info": {
   "codemirror_mode": {
    "name": "ipython",
    "version": 3
   },
   "file_extension": ".py",
   "mimetype": "text/x-python",
   "name": "python",
   "nbconvert_exporter": "python",
   "pygments_lexer": "ipython3",
   "version": "3.6.4"
  }
 },
 "nbformat": 4,
 "nbformat_minor": 2
}
